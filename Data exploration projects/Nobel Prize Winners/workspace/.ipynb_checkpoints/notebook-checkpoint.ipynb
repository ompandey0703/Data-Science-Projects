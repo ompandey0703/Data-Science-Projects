{
 "cells": [
  {
   "cell_type": "markdown",
   "id": "db5bd2ce-918a-4f7d-a927-a3ea74c4b456",
   "metadata": {},
   "source": [
    "The Nobel Prize has been among the most prestigious international awards since 1901. Each year, awards are bestowed in chemistry, literature, physics, physiology or medicine, economics, and peace. In addition to the honor, prestige, and substantial prize money, the recipient also gets a gold medal with an image of Alfred Nobel (1833 - 1896), who established the prize.\n",
    "\n",
    "![](Nobel_Prize.png)\n",
    "\n",
    "The Nobel Foundation has made a dataset available of all prize winners from the outset of the awards from 1901 to 2023. The dataset used in this project is from the Nobel Prize API and is available in the `nobel.csv` file in the `data` folder.\n",
    "\n",
    "In this project, we'll try to answer several questions"
   ]
  },
  {
   "cell_type": "markdown",
   "id": "3f31a887",
   "metadata": {},
   "source": [
    "Q1. "
   ]
  },
  {
   "cell_type": "code",
   "execution_count": 1,
   "id": "11fd5946-7bd1-495c-aa7f-ff6e7e4a350b",
   "metadata": {
    "executionCancelledAt": null,
    "executionTime": 77,
    "lastExecutedAt": 1718639345970,
    "lastExecutedByKernel": "e091e5b8-4782-40db-b75c-56ea79ff5d1e",
    "lastScheduledRunId": null,
    "lastSuccessfullyExecutedCode": "# Loading in required libraries\nimport pandas as pd\nimport seaborn as sns\nimport numpy as np\nimport matplotlib.pyplot as plt\n\n# Start coding here!\nnobel = pd.read_csv('data/nobel.csv', parse_dates=['birth_date', 'death_date'])\nnobel['birth_date'] = pd.to_datetime(nobel['birth_date'],errors='coerce')"
   },
   "outputs": [],
   "source": [
    "# Loading in required libraries\n",
    "import pandas as pd\n",
    "import seaborn as sns\n",
    "import numpy as np\n",
    "import matplotlib.pyplot as plt\n",
    "\n",
    "# Start coding here!\n",
    "nobel = pd.read_csv('data/nobel.csv', parse_dates=['birth_date', 'death_date'])\n",
    "nobel['birth_date'] = pd.to_datetime(nobel['birth_date'],errors='coerce')"
   ]
  },
  {
   "cell_type": "code",
   "execution_count": 2,
   "id": "0250f58b-3875-4465-9811-b7fd91398c77",
   "metadata": {
    "executionCancelledAt": null,
    "executionTime": 48,
    "lastExecutedAt": 1718639346069,
    "lastExecutedByKernel": "e091e5b8-4782-40db-b75c-56ea79ff5d1e",
    "lastScheduledRunId": null,
    "lastSuccessfullyExecutedCode": "nobel.head()",
    "outputsMetadata": {
     "0": {
      "height": 214,
      "type": "dataFrame"
     }
    }
   },
   "outputs": [
    {
     "data": {
      "text/html": [
       "<div>\n",
       "<style scoped>\n",
       "    .dataframe tbody tr th:only-of-type {\n",
       "        vertical-align: middle;\n",
       "    }\n",
       "\n",
       "    .dataframe tbody tr th {\n",
       "        vertical-align: top;\n",
       "    }\n",
       "\n",
       "    .dataframe thead th {\n",
       "        text-align: right;\n",
       "    }\n",
       "</style>\n",
       "<table border=\"1\" class=\"dataframe\">\n",
       "  <thead>\n",
       "    <tr style=\"text-align: right;\">\n",
       "      <th></th>\n",
       "      <th>year</th>\n",
       "      <th>category</th>\n",
       "      <th>prize</th>\n",
       "      <th>motivation</th>\n",
       "      <th>prize_share</th>\n",
       "      <th>laureate_id</th>\n",
       "      <th>laureate_type</th>\n",
       "      <th>full_name</th>\n",
       "      <th>birth_date</th>\n",
       "      <th>birth_city</th>\n",
       "      <th>birth_country</th>\n",
       "      <th>sex</th>\n",
       "      <th>organization_name</th>\n",
       "      <th>organization_city</th>\n",
       "      <th>organization_country</th>\n",
       "      <th>death_date</th>\n",
       "      <th>death_city</th>\n",
       "      <th>death_country</th>\n",
       "    </tr>\n",
       "  </thead>\n",
       "  <tbody>\n",
       "    <tr>\n",
       "      <th>0</th>\n",
       "      <td>1901</td>\n",
       "      <td>Chemistry</td>\n",
       "      <td>The Nobel Prize in Chemistry 1901</td>\n",
       "      <td>\"in recognition of the extraordinary services ...</td>\n",
       "      <td>1/1</td>\n",
       "      <td>160</td>\n",
       "      <td>Individual</td>\n",
       "      <td>Jacobus Henricus van 't Hoff</td>\n",
       "      <td>1852-08-30</td>\n",
       "      <td>Rotterdam</td>\n",
       "      <td>Netherlands</td>\n",
       "      <td>Male</td>\n",
       "      <td>Berlin University</td>\n",
       "      <td>Berlin</td>\n",
       "      <td>Germany</td>\n",
       "      <td>1911-03-01</td>\n",
       "      <td>Berlin</td>\n",
       "      <td>Germany</td>\n",
       "    </tr>\n",
       "    <tr>\n",
       "      <th>1</th>\n",
       "      <td>1901</td>\n",
       "      <td>Literature</td>\n",
       "      <td>The Nobel Prize in Literature 1901</td>\n",
       "      <td>\"in special recognition of his poetic composit...</td>\n",
       "      <td>1/1</td>\n",
       "      <td>569</td>\n",
       "      <td>Individual</td>\n",
       "      <td>Sully Prudhomme</td>\n",
       "      <td>1839-03-16</td>\n",
       "      <td>Paris</td>\n",
       "      <td>France</td>\n",
       "      <td>Male</td>\n",
       "      <td>NaN</td>\n",
       "      <td>NaN</td>\n",
       "      <td>NaN</td>\n",
       "      <td>1907-09-07</td>\n",
       "      <td>Châtenay</td>\n",
       "      <td>France</td>\n",
       "    </tr>\n",
       "    <tr>\n",
       "      <th>2</th>\n",
       "      <td>1901</td>\n",
       "      <td>Medicine</td>\n",
       "      <td>The Nobel Prize in Physiology or Medicine 1901</td>\n",
       "      <td>\"for his work on serum therapy, especially its...</td>\n",
       "      <td>1/1</td>\n",
       "      <td>293</td>\n",
       "      <td>Individual</td>\n",
       "      <td>Emil Adolf von Behring</td>\n",
       "      <td>1854-03-15</td>\n",
       "      <td>Hansdorf (Lawice)</td>\n",
       "      <td>Prussia (Poland)</td>\n",
       "      <td>Male</td>\n",
       "      <td>Marburg University</td>\n",
       "      <td>Marburg</td>\n",
       "      <td>Germany</td>\n",
       "      <td>1917-03-31</td>\n",
       "      <td>Marburg</td>\n",
       "      <td>Germany</td>\n",
       "    </tr>\n",
       "    <tr>\n",
       "      <th>3</th>\n",
       "      <td>1901</td>\n",
       "      <td>Peace</td>\n",
       "      <td>The Nobel Peace Prize 1901</td>\n",
       "      <td>NaN</td>\n",
       "      <td>1/2</td>\n",
       "      <td>462</td>\n",
       "      <td>Individual</td>\n",
       "      <td>Jean Henry Dunant</td>\n",
       "      <td>1828-05-08</td>\n",
       "      <td>Geneva</td>\n",
       "      <td>Switzerland</td>\n",
       "      <td>Male</td>\n",
       "      <td>NaN</td>\n",
       "      <td>NaN</td>\n",
       "      <td>NaN</td>\n",
       "      <td>1910-10-30</td>\n",
       "      <td>Heiden</td>\n",
       "      <td>Switzerland</td>\n",
       "    </tr>\n",
       "    <tr>\n",
       "      <th>4</th>\n",
       "      <td>1901</td>\n",
       "      <td>Peace</td>\n",
       "      <td>The Nobel Peace Prize 1901</td>\n",
       "      <td>NaN</td>\n",
       "      <td>1/2</td>\n",
       "      <td>463</td>\n",
       "      <td>Individual</td>\n",
       "      <td>Frédéric Passy</td>\n",
       "      <td>1822-05-20</td>\n",
       "      <td>Paris</td>\n",
       "      <td>France</td>\n",
       "      <td>Male</td>\n",
       "      <td>NaN</td>\n",
       "      <td>NaN</td>\n",
       "      <td>NaN</td>\n",
       "      <td>1912-06-12</td>\n",
       "      <td>Paris</td>\n",
       "      <td>France</td>\n",
       "    </tr>\n",
       "  </tbody>\n",
       "</table>\n",
       "</div>"
      ],
      "text/plain": [
       "   year    category                                           prize  \\\n",
       "0  1901   Chemistry               The Nobel Prize in Chemistry 1901   \n",
       "1  1901  Literature              The Nobel Prize in Literature 1901   \n",
       "2  1901    Medicine  The Nobel Prize in Physiology or Medicine 1901   \n",
       "3  1901       Peace                      The Nobel Peace Prize 1901   \n",
       "4  1901       Peace                      The Nobel Peace Prize 1901   \n",
       "\n",
       "                                          motivation prize_share  laureate_id  \\\n",
       "0  \"in recognition of the extraordinary services ...         1/1          160   \n",
       "1  \"in special recognition of his poetic composit...         1/1          569   \n",
       "2  \"for his work on serum therapy, especially its...         1/1          293   \n",
       "3                                                NaN         1/2          462   \n",
       "4                                                NaN         1/2          463   \n",
       "\n",
       "  laureate_type                     full_name birth_date         birth_city  \\\n",
       "0    Individual  Jacobus Henricus van 't Hoff 1852-08-30          Rotterdam   \n",
       "1    Individual               Sully Prudhomme 1839-03-16              Paris   \n",
       "2    Individual        Emil Adolf von Behring 1854-03-15  Hansdorf (Lawice)   \n",
       "3    Individual             Jean Henry Dunant 1828-05-08             Geneva   \n",
       "4    Individual                Frédéric Passy 1822-05-20              Paris   \n",
       "\n",
       "      birth_country   sex   organization_name organization_city  \\\n",
       "0       Netherlands  Male   Berlin University            Berlin   \n",
       "1            France  Male                 NaN               NaN   \n",
       "2  Prussia (Poland)  Male  Marburg University           Marburg   \n",
       "3       Switzerland  Male                 NaN               NaN   \n",
       "4            France  Male                 NaN               NaN   \n",
       "\n",
       "  organization_country death_date death_city death_country  \n",
       "0              Germany 1911-03-01     Berlin       Germany  \n",
       "1                  NaN 1907-09-07   Châtenay        France  \n",
       "2              Germany 1917-03-31    Marburg       Germany  \n",
       "3                  NaN 1910-10-30     Heiden   Switzerland  \n",
       "4                  NaN 1912-06-12      Paris        France  "
      ]
     },
     "execution_count": 2,
     "metadata": {},
     "output_type": "execute_result"
    }
   ],
   "source": [
    "#Print first few rows of the dataframe\n",
    "nobel.head()"
   ]
  },
  {
   "cell_type": "code",
   "execution_count": 3,
   "id": "f954b199-05fa-4c06-b488-01719c9a41d9",
   "metadata": {
    "executionCancelledAt": null,
    "executionTime": 327,
    "lastExecutedAt": 1718639346396,
    "lastExecutedByKernel": "e091e5b8-4782-40db-b75c-56ea79ff5d1e",
    "lastScheduledRunId": null,
    "lastSuccessfullyExecutedCode": "sns.catplot(data=nobel, kind='count', x='sex', hue='sex')\nplt.show()\ntop_gender ='Male'"
   },
   "outputs": [
    {
     "data": {
      "image/png": "[encoded data removed]",
      "text/plain": [
       "<Figure size 500x500 with 1 Axes>"
      ]
     },
     "metadata": {},
     "output_type": "display_data"
    }
   ],
   "source": [
    "#using countplot to visualize the data\n",
    "sns.catplot(data=nobel, kind='count', x='sex', hue='sex')\n",
    "plt.show()\n",
    "top_gender ='Male'"
   ]
  },
  {
   "cell_type": "code",
   "execution_count": 4,
   "id": "9ed39be1-47ba-4831-9054-6f7a81c95d94",
   "metadata": {
    "executionCancelledAt": null,
    "executionTime": 49,
    "lastExecutedAt": 1718639346445,
    "lastExecutedByKernel": "e091e5b8-4782-40db-b75c-56ea79ff5d1e",
    "lastScheduledRunId": null,
    "lastSuccessfullyExecutedCode": "print(nobel['birth_country'].value_counts())\ntop_country = \"United States of America\"",
    "outputsMetadata": {
     "0": {
      "height": 269,
      "type": "stream"
     }
    }
   },
   "outputs": [
    {
     "name": "stdout",
     "output_type": "stream",
     "text": [
      "United States of America                        291\n",
      "United Kingdom                                   91\n",
      "Germany                                          67\n",
      "France                                           58\n",
      "Sweden                                           30\n",
      "                                               ... \n",
      "Austria-Hungary (Ukraine)                         1\n",
      "Ottoman Empire (Turkey)                           1\n",
      "Russian Empire (Azerbaijan)                       1\n",
      "Bosnia (Bosnia and Herzegovina)                   1\n",
      "French protectorate of Tunisia (now Tunisia)      1\n",
      "Name: birth_country, Length: 129, dtype: int64\n"
     ]
    }
   ],
   "source": [
    "print(nobel['birth_country'].value_counts())\n",
    "top_country = \"United States of America\""
   ]
  },
  {
   "cell_type": "code",
   "execution_count": 5,
   "id": "a4cef5ae-e04b-492c-9d69-a50c57e90d2f",
   "metadata": {
    "executionCancelledAt": null,
    "executionTime": 57,
    "lastExecutedAt": 1718639346502,
    "lastExecutedByKernel": "e091e5b8-4782-40db-b75c-56ea79ff5d1e",
    "lastScheduledRunId": null,
    "lastSuccessfullyExecutedCode": "nobel['us_born_winners'] = nobel['birth_country']==\"United States of America\"\nnobel['decade'] = (nobel['year']//10)*10\nnobel['decade'] = nobel['decade'].astype(int)\n#as_index so that it saves as dataframe rahter than series\nus_winners_ratio = nobel.groupby('decade',as_index=False)['us_born_winners'].mean()\nprint(us_winners_ratio.sort_values('us_born_winners',ascending=False))\n\n",
    "outputsMetadata": {
     "0": {
      "height": 311,
      "type": "stream"
     }
    }
   },
   "outputs": [
    {
     "name": "stdout",
     "output_type": "stream",
     "text": [
      "    decade  us_born_winners\n",
      "10    2000         0.422764\n",
      "9     1990         0.403846\n",
      "12    2020         0.360000\n",
      "8     1980         0.319588\n",
      "7     1970         0.317308\n",
      "11    2010         0.314050\n",
      "4     1940         0.302326\n",
      "5     1950         0.291667\n",
      "6     1960         0.265823\n",
      "3     1930         0.250000\n",
      "1     1910         0.075000\n",
      "2     1920         0.074074\n",
      "0     1900         0.017544\n"
     ]
    }
   ],
   "source": [
    "#Create a new column which suggests whether the individual or organization is from USA or not\n",
    "nobel['us_born_winners'] = nobel['birth_country']==\"United States of America\"\n",
    "\n",
    "#Create another column decade\n",
    "nobel['decade'] = (nobel['year']//10)*10\n",
    "\n",
    "#Typecast the column from object to integer\n",
    "nobel['decade'] = nobel['decade'].astype(int)\n",
    "\n",
    "#as_index so that it saves as dataframe rather than series\n",
    "us_winners_ratio = nobel.groupby('decade',as_index=False)['us_born_winners'].mean()\n",
    "print(us_winners_ratio.sort_values('us_born_winners',ascending=False))\n",
    "\n"
   ]
  },
  {
   "cell_type": "code",
   "execution_count": 6,
   "id": "632b4610-27ca-492c-92d8-57bca92742b3",
   "metadata": {
    "executionCancelledAt": null,
    "executionTime": 325,
    "lastExecutedAt": 1718639346827,
    "lastExecutedByKernel": "e091e5b8-4782-40db-b75c-56ea79ff5d1e",
    "lastScheduledRunId": null,
    "lastSuccessfullyExecutedCode": "sns.relplot(kind='line',x='decade', y='us_born_winners',data=us_winners_ratio)\nmax_decade_usa = 2000"
   },
   "outputs": [
    {
     "data": {
      "image/png": "[encoded data removed]",
      "text/plain": [
       "<Figure size 500x500 with 1 Axes>"
      ]
     },
     "metadata": {},
     "output_type": "display_data"
    }
   ],
   "source": [
    "#We can visualize the values by creating a line plot\n",
    "sns.relplot(kind='line',x='decade', y='us_born_winners',data=us_winners_ratio)\n",
    "plt.annotate('Maximum', xy=(2000,0.422), xytext=(1960,0.40), arrowprops={})\n",
    "max_decade_usa = 2000"
   ]
  },
  {
   "cell_type": "code",
   "execution_count": 7,
   "id": "d21f43bc-3830-46f3-9976-3a7f495fa68d",
   "metadata": {
    "executionCancelledAt": null,
    "executionTime": 54,
    "lastExecutedAt": 1718639346881,
    "lastExecutedByKernel": "e091e5b8-4782-40db-b75c-56ea79ff5d1e",
    "lastScheduledRunId": null,
    "lastSuccessfullyExecutedCode": "nobel['female'] = nobel['sex']==\"Female\"\ndec_cat_combo = nobel.groupby(['decade','category'],as_index=False)['female'].mean()\n\n",
    "outputsMetadata": {
     "0": {
      "height": 311,
      "type": "stream"
     }
    }
   },
   "outputs": [],
   "source": [
    "nobel['female'] = nobel['sex']==\"Female\"\n",
    "dec_cat_combo = nobel.groupby(['decade','category'],as_index=False)['female'].mean()\n",
    "\n"
   ]
  },
  {
   "cell_type": "code",
   "execution_count": 8,
   "id": "ed0e90ef-5731-477b-9624-a0339c8815cb",
   "metadata": {
    "executionCancelledAt": null,
    "executionTime": 52,
    "lastExecutedAt": 1718639346933,
    "lastExecutedByKernel": "e091e5b8-4782-40db-b75c-56ea79ff5d1e",
    "lastScheduledRunId": null,
    "lastSuccessfullyExecutedCode": "max_female_row = dec_cat_combo.loc[dec_cat_combo['female']==dec_cat_combo['female'].max()]\nmax_female_dict ={max_female_row['decade'].values[0]: max_female_row['category'].values[0]}",
    "outputsMetadata": {
     "0": {
      "height": 59,
      "type": "stream"
     }
    }
   },
   "outputs": [],
   "source": [
    "max_female_row = dec_cat_combo.loc[dec_cat_combo['female']==dec_cat_combo['female'].max()]\n",
    "max_female_dict ={max_female_row['decade'].values[0]: max_female_row['category'].values[0]}"
   ]
  },
  {
   "cell_type": "code",
   "execution_count": 9,
   "id": "4308c56e-ee50-412f-b477-405752544de4",
   "metadata": {
    "executionCancelledAt": null,
    "executionTime": 52,
    "lastExecutedAt": 1718639346985,
    "lastExecutedByKernel": "e091e5b8-4782-40db-b75c-56ea79ff5d1e",
    "lastScheduledRunId": null,
    "lastSuccessfullyExecutedCode": "female_winners= nobel.loc[nobel['sex']==\"Female\",['full_name','category']]\nfirst_woman_name = new['full_name'].values[0]\nfirst_woman_category= new['category'].values[0]\n",
    "outputsMetadata": {
     "0": {
      "height": 38,
      "type": "stream"
     }
    }
   },
   "outputs": [
    {
     "ename": "NameError",
     "evalue": "name 'new' is not defined",
     "output_type": "error",
     "traceback": [
      "\u001b[1;31m---------------------------------------------------------------------------\u001b[0m",
      "\u001b[1;31mNameError\u001b[0m                                 Traceback (most recent call last)",
      "Cell \u001b[1;32mIn[9], line 2\u001b[0m\n\u001b[0;32m      1\u001b[0m female_winners\u001b[38;5;241m=\u001b[39m nobel\u001b[38;5;241m.\u001b[39mloc[nobel[\u001b[38;5;124m'\u001b[39m\u001b[38;5;124msex\u001b[39m\u001b[38;5;124m'\u001b[39m]\u001b[38;5;241m==\u001b[39m\u001b[38;5;124m\"\u001b[39m\u001b[38;5;124mFemale\u001b[39m\u001b[38;5;124m\"\u001b[39m,[\u001b[38;5;124m'\u001b[39m\u001b[38;5;124mfull_name\u001b[39m\u001b[38;5;124m'\u001b[39m,\u001b[38;5;124m'\u001b[39m\u001b[38;5;124mcategory\u001b[39m\u001b[38;5;124m'\u001b[39m]]\n\u001b[1;32m----> 2\u001b[0m first_woman_name \u001b[38;5;241m=\u001b[39m new[\u001b[38;5;124m'\u001b[39m\u001b[38;5;124mfull_name\u001b[39m\u001b[38;5;124m'\u001b[39m]\u001b[38;5;241m.\u001b[39mvalues[\u001b[38;5;241m0\u001b[39m]\n\u001b[0;32m      3\u001b[0m first_woman_category\u001b[38;5;241m=\u001b[39m new[\u001b[38;5;124m'\u001b[39m\u001b[38;5;124mcategory\u001b[39m\u001b[38;5;124m'\u001b[39m]\u001b[38;5;241m.\u001b[39mvalues[\u001b[38;5;241m0\u001b[39m]\n",
      "\u001b[1;31mNameError\u001b[0m: name 'new' is not defined"
     ]
    }
   ],
   "source": [
    "female_winners= nobel.loc[nobel['sex']==\"Female\",['full_name','category']]\n",
    "first_woman_name = new['full_name'].values[0]\n",
    "first_woman_category= new['category'].values[0]\n"
   ]
  },
  {
   "cell_type": "code",
   "execution_count": null,
   "id": "854e8187-ab99-4a86-bc5a-d3064f1c0228",
   "metadata": {
    "executionCancelledAt": null,
    "executionTime": 51,
    "lastExecutedAt": 1718639347037,
    "lastExecutedByKernel": "e091e5b8-4782-40db-b75c-56ea79ff5d1e",
    "lastScheduledRunId": null,
    "lastSuccessfullyExecutedCode": "more_than_one = nobel['full_name'].value_counts()\nrepeat_series = more_than_one[more_than_one >= 2].index\nrepeat_list = list(repeat_series)",
    "outputsMetadata": {
     "0": {
      "height": 320,
      "type": "dataFrame"
     }
    }
   },
   "outputs": [],
   "source": [
    "more_than_one = nobel['full_name'].value_counts()\n",
    "repeat_series = more_than_one[more_than_one >= 2].index\n",
    "repeat_list = list(repeat_series)"
   ]
  }
 ],
 "metadata": {
  "editor": "DataCamp Workspace",
  "kernelspec": {
   "display_name": "Python 3 (ipykernel)",
   "language": "python",
   "name": "python3"
  },
  "language_info": {
   "codemirror_mode": {
    "name": "ipython",
    "version": 3
   },
   "file_extension": ".py",
   "mimetype": "text/x-python",
   "name": "python",
   "nbconvert_exporter": "python",
   "pygments_lexer": "ipython3",
   "version": "3.11.3"
  }
 },
 "nbformat": 4,
 "nbformat_minor": 5
}
